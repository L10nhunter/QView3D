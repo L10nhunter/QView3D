{
 "cells": [
  {
   "cell_type": "code",
   "execution_count": 2,
   "metadata": {},
   "outputs": [
    {
     "name": "stdout",
     "output_type": "stream",
     "text": [
      "done\n"
     ]
    }
   ],
   "source": [
    "import serial\n",
    "import time\n",
    "\n",
    "# Connect to the right port.  See listing below\n",
    "ser = serial.Serial('/dev/ttyACM0', 115200, timeout=1)\n",
    "\n",
    "time.sleep(2)\n",
    "\n",
    "#Send G-Code test\n",
    "#Return home\n",
    "# ser.write(b'G28\\n')\n",
    "\n",
    "# Absolute Positioning\n",
    "ser.write(b'G90') \n",
    "\n",
    "#Set to X0 Y0 Z0\n",
    "ser.write(b'G92 X0 Y0 Z0')\n",
    "\n",
    "#Set to millimeters\n",
    "ser.write(b'G21')\n",
    "\n",
    "#Move X0 Y0 Z0\n",
    "ser.write(b'G00 X0 Y0 Z0\\n')\n",
    "\n",
    "#Lower the tool\n",
    "# ser.write(b'G01 Z100\\n')\n",
    "\n",
    "#Draw a rectangle\n",
    "ser.write(b'G01 Z20')\n",
    "ser.write(b'G01 X100\\n')\n",
    "ser.write(b'G01 Y100\\n')\n",
    "ser.write(b'G01 X0\\n')\n",
    "ser.write(b'G01 Y0\\n')\n",
    "\n",
    "print(\"done\")\n",
    "ser.close()"
   ]
  },
  {
   "cell_type": "code",
   "execution_count": 34,
   "metadata": {},
   "outputs": [
    {
     "name": "stdout",
     "output_type": "stream",
     "text": [
      "Command: G28, Recieved: ok\n",
      "Command: G92 E0, Recieved: ok\n"
     ]
    }
   ],
   "source": [
    "import serial\n",
    "import time\n",
    "\n",
    "# Connect to the right port.  See listing below\n",
    "ser = serial.Serial('/dev/ttyACM0', 115200, timeout=1)\n",
    "\n",
    "#function to send gcode commands\n",
    "def send_gcode(message):\n",
    "    #Encode and send the messags to the printer. \n",
    "    ser.write(f\"{message}\\n\".encode('utf-8'))\n",
    "    #Sleep the printer to give it enough time to get the instuction. \n",
    "    time.sleep(0.1)\n",
    "\n",
    "    #Print out the response from the printer. \n",
    "    while True:\n",
    "        response = ser.readline().decode(\"utf-8\").strip()\n",
    "        if \"ok\" in response:\n",
    "            break\n",
    "    print(f\"Command: {message}, Recieved: {response}\")\n",
    "\n",
    "#Return to home / Reset Extruder\n",
    "send_gcode(\"G28\")\n",
    "send_gcode(\"G92 E0\")\n",
    "\n",
    "\n",
    "# Parse and stream the gcode file to the printer. \n",
    "\n",
    "with open(\"file\", \"r\") as g:  #Replace file with the path to the file. \"r\" means read mode. \n",
    "    for line in g:\n",
    "        #remove whitespace\n",
    "        line = line.strip() \n",
    "        if len(line) == 0 or line.startswith(\";\"): # Don't send empty lines and comments. \";\" is a comment in gcode\n",
    "            continue\n",
    "        send_gcode(line)\n",
    "\n",
    "ser.close()\n"
   ]
  },
  {
   "cell_type": "code",
   "execution_count": 1,
   "metadata": {},
   "outputs": [
    {
     "name": "stdout",
     "output_type": "stream",
     "text": [
      "Port: /dev/ttyS4, Descp: n/a\n",
      "Port: /dev/ttyS0, Descp: ttyS0\n",
      "Port: /dev/ttyACM0, Descp: Original Prusa i3 MK3\n"
     ]
    }
   ],
   "source": [
    "\n",
    "import serial.tools.list_ports\n",
    "\n",
    "ports = serial.tools.list_ports.comports()\n",
    "\n",
    "for port in ports:\n",
    "    print(f\"Port: {port.device}, Descp: {port.description}\")"
   ]
  },
  {
   "cell_type": "code",
   "execution_count": 2,
   "metadata": {},
   "outputs": [
    {
     "data": {
      "text/plain": [
       "['CR',\n",
       " 'EIGHTBITS',\n",
       " 'FIVEBITS',\n",
       " 'LF',\n",
       " 'PARITY_EVEN',\n",
       " 'PARITY_MARK',\n",
       " 'PARITY_NAMES',\n",
       " 'PARITY_NONE',\n",
       " 'PARITY_ODD',\n",
       " 'PARITY_SPACE',\n",
       " 'PortNotOpenError',\n",
       " 'PosixPollSerial',\n",
       " 'SEVENBITS',\n",
       " 'SIXBITS',\n",
       " 'STOPBITS_ONE',\n",
       " 'STOPBITS_ONE_POINT_FIVE',\n",
       " 'STOPBITS_TWO',\n",
       " 'Serial',\n",
       " 'SerialBase',\n",
       " 'SerialException',\n",
       " 'SerialTimeoutException',\n",
       " 'Timeout',\n",
       " 'VERSION',\n",
       " 'VTIMESerial',\n",
       " 'XOFF',\n",
       " 'XON',\n",
       " '__builtins__',\n",
       " '__cached__',\n",
       " '__doc__',\n",
       " '__file__',\n",
       " '__loader__',\n",
       " '__name__',\n",
       " '__package__',\n",
       " '__path__',\n",
       " '__spec__',\n",
       " '__version__',\n",
       " 'absolute_import',\n",
       " 'basestring',\n",
       " 'importlib',\n",
       " 'io',\n",
       " 'iterbytes',\n",
       " 'os',\n",
       " 'protocol_handler_packages',\n",
       " 'serial_for_url',\n",
       " 'serialposix',\n",
       " 'serialutil',\n",
       " 'sys',\n",
       " 'time',\n",
       " 'to_bytes',\n",
       " 'tools',\n",
       " 'unicode']"
      ]
     },
     "execution_count": 2,
     "metadata": {},
     "output_type": "execute_result"
    }
   ],
   "source": [
    "import serial\n",
    "dir(serial)"
   ]
  }
 ],
 "metadata": {
  "kernelspec": {
   "display_name": "Python 3",
   "language": "python",
   "name": "python3"
  },
  "language_info": {
   "codemirror_mode": {
    "name": "ipython",
    "version": 3
   },
   "file_extension": ".py",
   "mimetype": "text/x-python",
   "name": "python",
   "nbconvert_exporter": "python",
   "pygments_lexer": "ipython3",
   "version": "3.10.12"
  },
  "orig_nbformat": 4
 },
 "nbformat": 4,
 "nbformat_minor": 2
}
